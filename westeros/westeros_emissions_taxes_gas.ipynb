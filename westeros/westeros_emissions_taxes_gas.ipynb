{
 "cells": [
  {
   "cell_type": "markdown",
   "metadata": {},
   "source": [
    "# Westeros - Introducing emission taxes\n",
    "\n",
    "In the previous tutorial (``westeros_baseline_gas.ipynb``), we introduced a stylized energy systems model including gas plants. \n",
    "\n",
    "Now, we will tackle the complementary policy to emissions constraints, namely emissions taxes.\n",
    "\n",
    "**Pre-requisites**\n",
    "- You have the *MESSAGEix* framework installed and working\n",
    "- You have run Westeros baseline scenario with gas plant (``westeros_baseline_gas.ipynb``) and solved it successfully"
   ]
  },
  {
   "cell_type": "code",
   "execution_count": null,
   "metadata": {},
   "outputs": [],
   "source": [
    "import pandas as pd\n",
    "import ixmp\n",
    "import message_ix\n",
    "\n",
    "from message_ix.utils import make_df\n",
    "\n",
    "%matplotlib inline"
   ]
  },
  {
   "cell_type": "code",
   "execution_count": null,
   "metadata": {},
   "outputs": [],
   "source": [
    "mp = ixmp.Platform()"
   ]
  },
  {
   "cell_type": "code",
   "execution_count": null,
   "metadata": {},
   "outputs": [],
   "source": [
    "model = 'Westeros Electrified'\n",
    "base = message_ix.Scenario(mp, model=model, scenario='baseline_gas')"
   ]
  },
  {
   "cell_type": "markdown",
   "metadata": {},
   "source": [
    "## Setting an emissions tax\n",
    "\n",
    "We visualize the effects of emissions taxes on the energy mix in Westeros."
   ]
  },
  {
   "cell_type": "code",
   "execution_count": null,
   "metadata": {},
   "outputs": [],
   "source": [
    "scen_tax = base.clone(model, 'carbon_tax_gas','introducing a carbon tax',\n",
    "                      keep_solution=False)\n",
    "scen_tax.check_out()"
   ]
  },
  {
   "cell_type": "code",
   "execution_count": null,
   "metadata": {},
   "outputs": [],
   "source": [
    "scen_tax.add_set('emission', 'CO2')\n",
    "scen_tax.add_cat('emission', 'GHG', 'CO2')"
   ]
  },
  {
   "cell_type": "markdown",
   "metadata": {},
   "source": [
    "According to [IEA 2019](https://www.iea.org/reports/the-role-of-gas-in-todays-energy-transitions), \"coal-to-gas switching reduces emissions by 50% when producing electricity\", therefore, the emissions factor for gas is set to half that of coal."
   ]
  },
  {
   "cell_type": "code",
   "execution_count": null,
   "metadata": {},
   "outputs": [],
   "source": [
    "year_df = scen_tax.vintage_and_active_years()\n",
    "vintage_years, act_years = year_df['year_vtg'], year_df['year_act']\n",
    "model_horizon = scen_tax.set('year')\n",
    "country = 'Westeros'\n",
    "\n",
    "scen_tax.add_set('emission', 'CO2')\n",
    "scen_tax.add_cat('emission', 'GHG', 'CO2')\n",
    "\n",
    "# we now add CO2 emissions to the coal and gas powerplants\n",
    "base_emission_factor = {\n",
    "    'node_loc': country,\n",
    "    'year_vtg': vintage_years,\n",
    "    'year_act': act_years,\n",
    "    'mode': 'standard',\n",
    "    'unit': 'tCO2/kWa',\n",
    "}\n",
    "\n",
    "# adding new units to the model library (needed only once)\n",
    "mp.add_unit('tCO2/kWa')\n",
    "mp.add_unit('MtCO2')\n",
    "\n",
    "emission_factor = {\n",
    "    'coal_ppl': 7.4,\n",
    "    'gas_ppl': 3.7,\n",
    "}\n",
    "\n",
    "for tec, val in emission_factor.items():\n",
    "    df = make_df(base_emission_factor, technology=tec, emission='CO2', value=val)\n",
    "    scen_tax.add_par('emission_factor', df)"
   ]
  },
  {
   "cell_type": "markdown",
   "metadata": {},
   "source": [
    "Setting an initial base CO2 tax at 50 USD / tCO2. This initial tax will be later modified to check the effect of varying it on the energy mix."
   ]
  },
  {
   "cell_type": "code",
   "execution_count": null,
   "metadata": {},
   "outputs": [],
   "source": [
    "base_tCO2_tax = 50\n",
    "scen_tax.add_set('type_year', [700, 710, 720])\n",
    "\n",
    "base_tax_emission = {\n",
    "    'node': 'Westeros',\n",
    "    'type_year': [700, 710, 720],\n",
    "    'type_tec': 'all',\n",
    "    'unit': 'USD/tCO2',\n",
    "    'type_emission': 'GHG',\n",
    "    'value': [base_tCO2_tax, base_tCO2_tax, base_tCO2_tax],\n",
    "}\n",
    "\n",
    "# in case you need to add the new unit to the platform\n",
    "mp.add_unit('USD/tCO2')\n",
    "\n",
    "tax_emission = make_df(base_tax_emission)\n",
    "scen_tax.add_par('tax_emission', tax_emission)\n",
    "scen_tax.par('tax_emission')"
   ]
  },
  {
   "cell_type": "code",
   "execution_count": null,
   "metadata": {},
   "outputs": [],
   "source": [
    "scen_tax.commit(comment='setting taxes on emissions to base_tCO2_tax')\n",
    "scen_tax.set_as_default()"
   ]
  },
  {
   "cell_type": "code",
   "execution_count": null,
   "metadata": {},
   "outputs": [],
   "source": [
    "scen_tax.solve()"
   ]
  },
  {
   "cell_type": "markdown",
   "metadata": {},
   "source": [
    "## Plotting Results\n",
    "\n",
    "We make use of some custom code for plotting the results; see `tools.py` in the tutorial directory."
   ]
  },
  {
   "cell_type": "code",
   "execution_count": null,
   "metadata": {},
   "outputs": [],
   "source": [
    "from tools import Plots\n",
    "p = Plots(scen_tax, country, firstyear=model_horizon[0])"
   ]
  },
  {
   "cell_type": "markdown",
   "metadata": {},
   "source": [
    "### Activity\n",
    "\n",
    "How much energy is generated in each time period from the different potential sources?"
   ]
  },
  {
   "cell_type": "code",
   "execution_count": null,
   "metadata": {},
   "outputs": [],
   "source": [
    "p.plot_activity(baseyear=True, subset=['coal_ppl', 'gas_ppl','wind_ppl'])"
   ]
  },
  {
   "cell_type": "markdown",
   "metadata": {},
   "source": [
    "### Capacity\n",
    "\n",
    "How much capacity of each plant is installed in each period?"
   ]
  },
  {
   "cell_type": "code",
   "execution_count": null,
   "metadata": {},
   "outputs": [],
   "source": [
    "p.plot_capacity(baseyear=True, subset=['coal_ppl', 'gas_ppl','wind_ppl'])"
   ]
  },
  {
   "cell_type": "markdown",
   "metadata": {},
   "source": [
    "### Electricity Price"
   ]
  },
  {
   "cell_type": "code",
   "execution_count": null,
   "metadata": {},
   "outputs": [],
   "source": [
    "p.plot_prices(subset=['light'], baseyear=True)"
   ]
  },
  {
   "cell_type": "markdown",
   "metadata": {},
   "source": [
    "## Plotting the Activity when emission taxes are varied"
   ]
  },
  {
   "cell_type": "code",
   "execution_count": null,
   "metadata": {},
   "outputs": [],
   "source": [
    "for tCO2_tax in range(25, 70, 5):\n",
    "    #Creating temporary scenario to modify tCO2_tax\n",
    "    temp_scen_tax = scen_tax.clone(model, 'carbon_tax_temp','temporary scenario',\n",
    "                      keep_solution=False)\n",
    "    temp_scen_tax.check_out()\n",
    "    \n",
    "    #Setting emission tax level\n",
    "    temp_tax_emission = {\n",
    "        'node': 'Westeros',\n",
    "        'type_year': [700, 710, 720],\n",
    "        'type_tec': 'all',\n",
    "        'unit': 'USD/tCO2',\n",
    "        'type_emission': 'GHG',\n",
    "        'value': [tCO2_tax, tCO2_tax, tCO2_tax],\n",
    "    }\n",
    "    tax_emission = make_df(temp_tax_emission)\n",
    "    temp_scen_tax.add_par('tax_emission', tax_emission)\n",
    "    \n",
    "    #Solving temporary scenario\n",
    "    temp_scen_tax.commit(comment='temporary scenario')\n",
    "    temp_scen_tax.solve()\n",
    "    \n",
    "    #Plotting Activity\n",
    "    p = Plots(temp_scen_tax, country, firstyear=model_horizon[0])\n",
    "    print(tCO2_tax)\n",
    "    p.plot_activity(baseyear=True, subset=['coal_ppl', 'gas_ppl','wind_ppl'])"
   ]
  },
  {
   "cell_type": "markdown",
   "metadata": {},
   "source": [
    "## Close the connection to the database"
   ]
  },
  {
   "cell_type": "code",
   "execution_count": null,
   "metadata": {},
   "outputs": [],
   "source": [
    "mp.close_db()"
   ]
  },
  {
   "cell_type": "code",
   "execution_count": null,
   "metadata": {},
   "outputs": [],
   "source": []
  }
 ],
 "metadata": {
  "kernelspec": {
   "display_name": "Python 3",
   "language": "python",
   "name": "python3"
  },
  "language_info": {
   "codemirror_mode": {
    "name": "ipython",
    "version": 3
   },
   "file_extension": ".py",
   "mimetype": "text/x-python",
   "name": "python",
   "nbconvert_exporter": "python",
   "pygments_lexer": "ipython3",
   "version": "3.7.6"
  }
 },
 "nbformat": 4,
 "nbformat_minor": 2
}
